{
 "cells": [
  {
   "cell_type": "code",
   "execution_count": 4,
   "metadata": {},
   "outputs": [],
   "source": [
    "import tensorflow as tf\n",
    "import numpy as np\n",
    "from tensorflow.keras.preprocessing.image import ImageDataGenerator\n",
    "from sklearn.model_selection import train_test_split\n",
    "from sklearn.metrics import accuracy_score\n",
    "from sklearn.svm import SVC\n",
    "from tensorflow.keras.callbacks import ModelCheckpoint"
   ]
  },
  {
   "cell_type": "code",
   "execution_count": 5,
   "metadata": {},
   "outputs": [],
   "source": [
    "preprocessed_path = './Preprocessed ISL Finger Dataset'\n",
    "batch_size = 36\n",
    "img_size = (28, 28)\n",
    "\n",
    "datagen = ImageDataGenerator(rescale=1./255)"
   ]
  },
  {
   "cell_type": "code",
   "execution_count": 6,
   "metadata": {},
   "outputs": [
    {
     "name": "stdout",
     "output_type": "stream",
     "text": [
      "Found 278250 images belonging to 35 classes.\n"
     ]
    }
   ],
   "source": [
    "data_generator = datagen.flow_from_directory(\n",
    "    preprocessed_path,\n",
    "    target_size=img_size,\n",
    "    batch_size=batch_size,\n",
    "    class_mode='categorical'\n",
    ")\n",
    "# print(\"Class indices: \", data_generator.class_indices)"
   ]
  },
  {
   "cell_type": "code",
   "execution_count": 13,
   "metadata": {},
   "outputs": [
    {
     "data": {
      "text/plain": [
       "7730"
      ]
     },
     "execution_count": 13,
     "metadata": {},
     "output_type": "execute_result"
    }
   ],
   "source": [
    "len(data_generator)"
   ]
  },
  {
   "cell_type": "code",
   "execution_count": 7,
   "metadata": {},
   "outputs": [],
   "source": [
    "num_classes = len(data_generator.class_indices)\n",
    "x_data = []\n",
    "y_data = []\n",
    "\n",
    "for i in range(len(data_generator)):\n",
    "    x_batch, y_batch = data_generator[i]\n",
    "    x_batch_flatten = x_batch.reshape(x_batch.shape[0], -1)\n",
    "    x_data.append(x_batch_flatten)\n",
    "    y_data.append(y_batch)\n",
    "\n",
    "x = np.concatenate(x_data, axis=0)\n",
    "y = np.concatenate(y_data, axis=0)"
   ]
  },
  {
   "cell_type": "code",
   "execution_count": 10,
   "metadata": {},
   "outputs": [
    {
     "data": {
      "text/plain": [
       "(222600, 35)"
      ]
     },
     "execution_count": 10,
     "metadata": {},
     "output_type": "execute_result"
    }
   ],
   "source": [
    "y_train.shape"
   ]
  },
  {
   "cell_type": "code",
   "execution_count": 9,
   "metadata": {},
   "outputs": [
    {
     "ename": "NameError",
     "evalue": "name 'svm_classifier' is not defined",
     "output_type": "error",
     "traceback": [
      "\u001b[0;31m---------------------------------------------------------------------------\u001b[0m",
      "\u001b[0;31mNameError\u001b[0m                                 Traceback (most recent call last)",
      "Cell \u001b[0;32mIn[9], line 5\u001b[0m\n\u001b[1;32m      2\u001b[0m y_train_int \u001b[38;5;241m=\u001b[39m np\u001b[38;5;241m.\u001b[39margmax(y_train, axis\u001b[38;5;241m=\u001b[39m\u001b[38;5;241m1\u001b[39m)\n\u001b[1;32m      4\u001b[0m \u001b[38;5;66;03m# Fit the model with integer labels\u001b[39;00m\n\u001b[0;32m----> 5\u001b[0m \u001b[43msvm_classifier\u001b[49m\u001b[38;5;241m.\u001b[39mfit(x_train, y_train_int)\n\u001b[1;32m      7\u001b[0m \u001b[38;5;66;03m# Evaluate the model\u001b[39;00m\n\u001b[1;32m      8\u001b[0m accuracy \u001b[38;5;241m=\u001b[39m svm_classifier\u001b[38;5;241m.\u001b[39mscore(x_test, np\u001b[38;5;241m.\u001b[39margmax(y_test, axis\u001b[38;5;241m=\u001b[39m\u001b[38;5;241m1\u001b[39m))\n",
      "\u001b[0;31mNameError\u001b[0m: name 'svm_classifier' is not defined"
     ]
    }
   ],
   "source": [
    "svm_classifier = SVC(kernel='linear', C=1.0, random_state=42)\n",
    "# Convert one-hot encoded labels to integer labels\n",
    "y_train_int = np.argmax(y_train, axis=1)\n",
    "\n",
    "# Fit the model with integer labels\n",
    "svm_classifier.fit(x_train, y_train_int)\n",
    "\n",
    "# Evaluate the model\n",
    "accuracy = svm_classifier.score(x_test, np.argmax(y_test, axis=1))\n",
    "print(\"Accuracy:\", accuracy)"
   ]
  }
 ],
 "metadata": {
  "kernelspec": {
   "display_name": "py",
   "language": "python",
   "name": "python3"
  },
  "language_info": {
   "codemirror_mode": {
    "name": "ipython",
    "version": 3
   },
   "file_extension": ".py",
   "mimetype": "text/x-python",
   "name": "python",
   "nbconvert_exporter": "python",
   "pygments_lexer": "ipython3",
   "version": "3.12.2"
  }
 },
 "nbformat": 4,
 "nbformat_minor": 2
}
